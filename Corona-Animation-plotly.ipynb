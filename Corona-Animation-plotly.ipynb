{
 "cells": [
  {
   "cell_type": "code",
   "execution_count": 1,
   "metadata": {},
   "outputs": [
    {
     "name": "stdout",
     "output_type": "stream",
     "text": [
      "Completed Importing packages\n"
     ]
    }
   ],
   "source": [
    "import plotly_express as px\n",
    "import pandas as pd \n",
    "import numpy as np\n",
    "print(\"Completed Importing packages\")\n"
   ]
  },
  {
   "cell_type": "code",
   "execution_count": 2,
   "metadata": {},
   "outputs": [
    {
     "name": "stdout",
     "output_type": "stream",
     "text": [
      "Completed Config\n"
     ]
    }
   ],
   "source": [
    "import pydeck as pdk\n",
    "from PIL import Image\n",
    "import seaborn as sns\n",
    "import time\n",
    "    \n",
    "PATH = 'D:/DataScience/'\n",
    "\n",
    "\n",
    "image = Image.open('D:/DataScience/image.jpg')\n",
    "\n",
    "data_ll       = pd.read_csv(PATH+'COVID19_line_list_data.csv')\n",
    "data_ol       = pd.read_csv(PATH+'COVID19_open_line_list.csv')\n",
    "data          = pd.read_csv(PATH+'covid_19_data.csv')\n",
    "data_ts_death = pd.read_csv(PATH+'time_series_covid_19_deaths.csv')\n",
    "data_ts_recov = pd.read_csv(PATH+'time_series_covid_19_recovered.csv')\n",
    "data_ts_conf  = pd.read_csv(PATH+'time_series_covid_19_confirmed.csv')\n",
    "\n",
    "data.rename(columns={'Province/State':'Province_State', 'Country/Region':'Country_Region'},inplace=True)\n",
    "data_ts_death.rename(columns={'Province/State':'Province_State', 'Country/Region':'Country_Region'},inplace=True)\n",
    "data_ts_recov.rename(columns={'Province/State':'Province_State', 'Country/Region':'Country_Region'},inplace=True)\n",
    "data_ts_conf.rename(columns={'Province/State':'Province_State', 'Country/Region':'Country_Region'},inplace=True)\n",
    "\n",
    "print(\"Completed Config\")\n"
   ]
  },
  {
   "cell_type": "code",
   "execution_count": 3,
   "metadata": {},
   "outputs": [
    {
     "name": "stdout",
     "output_type": "stream",
     "text": [
      "Deaths on 3/22/20\n",
      "137    5476\n",
      "62     3153\n",
      "201    1772\n",
      "133    1685\n",
      "116     674\n",
      "225     417\n",
      "223     281\n",
      "169     179\n",
      "143     111\n",
      "206      98\n",
      "Name: 3/22/20, dtype: int64\n",
      "137             Italy\n",
      "62              China\n",
      "201             Spain\n",
      "133              Iran\n",
      "116            France\n",
      "225                US\n",
      "223    United Kingdom\n",
      "169       Netherlands\n",
      "143      Korea, South\n",
      "206       Switzerland\n",
      "Name: Country_Region, dtype: object\n"
     ]
    }
   ],
   "source": [
    "\n",
    "\n",
    "#df = d['Country_Region'].value_counts()\n",
    "d = data_ts_death.drop(['Province_State','Lat','Long'], axis=1)\n",
    "\n",
    "col0    = d.columns\n",
    "num_col = len(col0)\n",
    "col1    = col0[num_col-10:]\n",
    "\n",
    "df      = d.loc[:, col1]\n",
    "\n",
    "\n",
    "# Get top contries in descending order\n",
    "def get_top(d, id):\n",
    "    #print(\"--------------column\", id)\n",
    "    s = d.loc[:, id].T\n",
    "    #Desending Order\n",
    "    top_affected = s.sort_values(ascending=False).index\n",
    "    #print(s.sort_index(axis=0))\n",
    "    a = top_affected[:10]\n",
    "    t = d.loc[a, id]\n",
    "    c = d.loc[a, 'Country_Region']\n",
    "\n",
    "    #print(\"Top Numbers \")\n",
    "    #print(t)\n",
    "    #print(\"Top Countries \")\n",
    "    #print(c)\n",
    "    return a, t, c\n",
    "\n",
    "\n",
    "id = col1[2]\n",
    "#print(\"Starting index \", id)\n",
    "\n",
    "a, y ,t = get_top(d, id)\n",
    "\n",
    "\n",
    "\n",
    "deaths = y\n",
    "deaths.Name = 'Deaths'\n",
    "Countries = t\n",
    "\n",
    "deaths.columns = 'Deaths on 3/22/20'\n",
    "Countries.columns = 'Country_Region'\n",
    "print( deaths.columns)\n",
    "#deaths.rename(columns={'3/22/20':'Deaths On 3/22/20'},inplace=True)\n",
    "\n",
    "print(deaths)\n",
    "print(Countries)\n",
    "\n"
   ]
  },
  {
   "cell_type": "code",
   "execution_count": 4,
   "metadata": {},
   "outputs": [
    {
     "name": "stdout",
     "output_type": "stream",
     "text": [
      "  Top_Countries_affected  Deaths_3/22/20\n",
      "0                  Italy            5476\n",
      "1                  China            3153\n",
      "2                  Spain            1772\n",
      "3                   Iran            1685\n",
      "4                 France             674\n",
      "5                     US             417\n",
      "6         United Kingdom             281\n",
      "7            Netherlands             179\n",
      "8           Korea, South             111\n",
      "9            Switzerland              98\n"
     ]
    }
   ],
   "source": [
    "\n",
    "\n",
    "\n",
    "Countries_af = pd.DataFrame(Countries.array, columns=['Top_Countries_affected'])\n",
    "#deaths_March = pd.DataFrame(deaths.array, columns=['deaths_March'])\n",
    "\n",
    "\n",
    "Countries_af.insert(1,'Deaths_3/22/20', deaths.array, True)\n",
    "\n",
    "print(Countries_af)\n"
   ]
  },
  {
   "cell_type": "code",
   "execution_count": 5,
   "metadata": {},
   "outputs": [],
   "source": [
    "\n",
    "#px.scatter(deaths,x = Countries, y = 'Deaths on 3/22/20' ,color=Countries)\n",
    "\n",
    "\n"
   ]
  },
  {
   "cell_type": "code",
   "execution_count": null,
   "metadata": {},
   "outputs": [],
   "source": [
    "px.scatter(Countries_af,x = 'Top_Countries_affected', y = 'Deaths_3/22/20' ,color=Countries_af['Top_Countries_affected'])\n",
    "\n",
    "\n"
   ]
  },
  {
   "cell_type": "code",
   "execution_count": null,
   "metadata": {},
   "outputs": [],
   "source": []
  },
  {
   "cell_type": "code",
   "execution_count": null,
   "metadata": {},
   "outputs": [],
   "source": []
  }
 ],
 "metadata": {
  "kernelspec": {
   "display_name": "Python 3",
   "language": "python",
   "name": "python3"
  },
  "language_info": {
   "codemirror_mode": {
    "name": "ipython",
    "version": 3
   },
   "file_extension": ".py",
   "mimetype": "text/x-python",
   "name": "python",
   "nbconvert_exporter": "python",
   "pygments_lexer": "ipython3",
   "version": "3.6.8"
  }
 },
 "nbformat": 4,
 "nbformat_minor": 2
}
