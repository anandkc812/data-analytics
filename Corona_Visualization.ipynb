{
  "nbformat": 4,
  "nbformat_minor": 0,
  "metadata": {
    "colab": {
      "name": "Corona-Visualization.ipynb",
      "provenance": [],
      "collapsed_sections": [],
      "authorship_tag": "ABX9TyOFtReJ1WwwiVJVw0lT42tf",
      "include_colab_link": true
    },
    "kernelspec": {
      "name": "python3",
      "display_name": "Python 3"
    }
  },
  "cells": [
    {
      "cell_type": "markdown",
      "metadata": {
        "id": "view-in-github",
        "colab_type": "text"
      },
      "source": [
        "<a href=\"https://colab.research.google.com/github/anandkc812/data-analytics/blob/master/Corona_Visualization.ipynb\" target=\"_parent\"><img src=\"https://colab.research.google.com/assets/colab-badge.svg\" alt=\"Open In Colab\"/></a>"
      ]
    },
    {
      "cell_type": "code",
      "metadata": {
        "id": "Y_Rnv4sDOyot",
        "colab_type": "code",
        "colab": {}
      },
      "source": [
        "%matplotlib inline\n",
        "import matplotlib.pyplot as plt\n",
        "import matplotlib.animation\n",
        "import numpy as np\n",
        "from IPython.display import HTML\n",
        "\n",
        "import pandas as pd \n",
        "import numpy as np\n",
        "import matplotlib.pyplot as plt2\n",
        "#import pydeck as pdk\n",
        "from PIL import Image\n",
        "import seaborn as sns\n",
        "import time"
      ],
      "execution_count": 0,
      "outputs": []
    },
    {
      "cell_type": "code",
      "metadata": {
        "id": "vkTMFBCmPTOF",
        "colab_type": "code",
        "colab": {
          "base_uri": "https://localhost:8080/",
          "height": 72
        },
        "outputId": "c4b93574-c055-4192-825e-019000c8118d"
      },
      "source": [
        "from google.colab import drive\n",
        "PATH = 'gdrive/My Drive/data/Corona/'\n",
        "\n",
        "print(PATH)\n",
        "\n",
        "\n",
        "drive.mount('/content/gdrive')\n",
        "\n",
        "#!unzip -q gdrive/'My Drive'/data/creditcardfraud.zip\n",
        "\n",
        "#st.title('Coronavirus COVID19 Visualization')\n",
        "#st.sidebar.title('Coronavirus')\n",
        "#image = Image.open('D:/DataScience/image.jpg')\n",
        "#st.sidebar.image(image, caption='Coronaviruse', use_column_width=True)\n",
        "#st.sidebar.subheader('Coronaviruses (CoV) are a large family of viruses that cause illness ranging from the common cold to more severe diseases such as Middle East Respiratory Syndrome (MERS-CoV) and Severe Acute Respiratory Syndrome (SARS-CoV). A novel coronavirus (nCoV) is a new strain that has not been previously identified in humans. ')\n",
        "\n",
        "data_ll       = pd.read_csv(PATH+'COVID19_line_list_data.csv')\n",
        "data_ol       = pd.read_csv(PATH+'COVID19_open_line_list.csv')\n",
        "data          = pd.read_csv(PATH+'covid_19_data.csv')\n",
        "data_ts_death = pd.read_csv(PATH+'time_series_covid_19_deaths.csv')\n",
        "data_ts_recov = pd.read_csv(PATH+'time_series_covid_19_recovered.csv')\n",
        "data_ts_conf  = pd.read_csv(PATH+'time_series_covid_19_confirmed.csv')\n",
        "\n",
        "data.rename(columns={'Province/State':'Province_State', 'Country/Region':'Country_Region'},inplace=True)\n",
        "data_ts_death.rename(columns={'Province/State':'Province_State', 'Country/Region':'Country_Region'},inplace=True)\n",
        "data_ts_recov.rename(columns={'Province/State':'Province_State', 'Country/Region':'Country_Region'},inplace=True)\n",
        "data_ts_conf.rename(columns={'Province/State':'Province_State', 'Country/Region':'Country_Region'},inplace=True)\n",
        "\n",
        "print(\"Config Complete\")"
      ],
      "execution_count": 25,
      "outputs": [
        {
          "output_type": "stream",
          "text": [
            "gdrive/My Drive/data/Corona/\n",
            "Drive already mounted at /content/gdrive; to attempt to forcibly remount, call drive.mount(\"/content/gdrive\", force_remount=True).\n",
            "Config Complete\n"
          ],
          "name": "stdout"
        }
      ]
    },
    {
      "cell_type": "code",
      "metadata": {
        "id": "9KDOYwUxPYD8",
        "colab_type": "code",
        "colab": {
          "base_uri": "https://localhost:8080/",
          "height": 650
        },
        "outputId": "f31d56fc-90c1-4680-de47-a5b66fc857ee"
      },
      "source": [
        "\n",
        "def plot_bar(x, y, ylable, Title):\n",
        "    \n",
        "\n",
        "    plt.figure(figsize=(20,10))\n",
        "    print(len(x), len(y))\n",
        "\n",
        "    plt.bar(x, y, align='center', alpha=0.5)\n",
        "    plt.xticks(x, x, rotation=45)\n",
        "    plt.ylabel(ylable)\n",
        "    plt.title(Title)\n",
        "\n",
        "    plt.show()\n",
        "\n",
        "\n",
        "d = data_ts_death.drop(['Province_State','Lat','Long'], axis=1)\n",
        "idx = d[d['Country_Region']== 'US' ].index.item()\n",
        "\n",
        "df = d.loc[idx]\n",
        "x2 = df[1:]\n",
        "\n",
        "df = d['Country_Region'].value_counts()\n",
        "\n",
        "\n",
        "plot_bar(x2.index, x2.iloc[0:,], \"Deaths\", \"Corona Deaths in US\")\n",
        "\n"
      ],
      "execution_count": 66,
      "outputs": [
        {
          "output_type": "stream",
          "text": [
            "68 68\n"
          ],
          "name": "stdout"
        },
        {
          "output_type": "display_data",
          "data": {
            "image/png": "[encoded data removed]",
            "text/plain": [
              "<Figure size 1440x720 with 1 Axes>"
            ]
          },
          "metadata": {
            "tags": []
          }
        }
      ]
    },
    {
      "cell_type": "code",
      "metadata": {
        "id": "WAFvcqBN2dHs",
        "colab_type": "code",
        "colab": {}
      },
      "source": [
        ""
      ],
      "execution_count": 0,
      "outputs": []
    }
  ]
}